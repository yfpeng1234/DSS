{
 "cells": [
  {
   "cell_type": "code",
   "execution_count": 4,
   "id": "c880f85c",
   "metadata": {},
   "outputs": [],
   "source": [
    "import os\n",
    "import numpy as np\n",
    "\n",
    "\n",
    "data_folder='./../data/procgen/ninja'\n",
    "info=np.load(os.path.join(data_folder,'info.npz'))\n",
    "items=info['items']"
   ]
  },
  {
   "cell_type": "code",
   "execution_count": 32,
   "id": "ec83fd76",
   "metadata": {},
   "outputs": [
    {
     "data": {
      "text/plain": [
       "1570119"
      ]
     },
     "execution_count": 32,
     "metadata": {},
     "output_type": "execute_result"
    }
   ],
   "source": [
    "len(items)"
   ]
  },
  {
   "cell_type": "code",
   "execution_count": 6,
   "id": "9e40360a",
   "metadata": {},
   "outputs": [],
   "source": [
    "episode_names=os.listdir(data_folder)\n",
    "episode_names=[x for x in episode_names if x.startswith('episode_')]\n",
    "length=[]\n",
    "for episode_name in episode_names:\n",
    "    episode=np.load(os.path.join(data_folder, episode_name))\n",
    "    length.append((episode_name,episode['action'].shape[0]))\n",
    "length=sorted(length)"
   ]
  },
  {
   "cell_type": "code",
   "execution_count": 7,
   "id": "27bfdb0d",
   "metadata": {},
   "outputs": [
    {
     "data": {
      "text/plain": [
       "5931"
      ]
     },
     "execution_count": 7,
     "metadata": {},
     "output_type": "execute_result"
    }
   ],
   "source": [
    "len(length)"
   ]
  }
 ],
 "metadata": {
  "kernelspec": {
   "display_name": "wan2.1",
   "language": "python",
   "name": "python3"
  },
  "language_info": {
   "codemirror_mode": {
    "name": "ipython",
    "version": 3
   },
   "file_extension": ".py",
   "mimetype": "text/x-python",
   "name": "python",
   "nbconvert_exporter": "python",
   "pygments_lexer": "ipython3",
   "version": "3.10.18"
  }
 },
 "nbformat": 4,
 "nbformat_minor": 5
}
